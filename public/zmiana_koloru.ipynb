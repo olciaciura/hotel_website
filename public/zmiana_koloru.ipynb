{
 "cells": [
  {
   "cell_type": "code",
   "execution_count": 1,
   "metadata": {},
   "outputs": [],
   "source": [
    "import numpy as np\n",
    "from PIL import Image"
   ]
  },
  {
   "cell_type": "code",
   "execution_count": 26,
   "metadata": {},
   "outputs": [
    {
     "name": "stdout",
     "output_type": "stream",
     "text": [
      "<PIL.Image.Image image mode=RGBA size=320x431 at 0x1B257B9A790>\n"
     ]
    }
   ],
   "source": [
    "image = Image.open('phone.png')\n",
    "image = image.convert('RGBA')\n",
    "data = np.array(image)\n",
    "print(image)"
   ]
  },
  {
   "cell_type": "code",
   "execution_count": 25,
   "metadata": {},
   "outputs": [],
   "source": [
    "layout_r_1, layout_g_1, layout_b_1 = 255, 255, 255\n",
    "\n",
    "image_r_1, image_g_1, image_b_1 = 247, 247, 240\n",
    "\n",
    "red, green, blue, alpha = data[:, :, 0], data[:, :, 1], data[:, :, 2], data[:, :, 3]\n",
    "\n",
    "mask2 = (alpha != 0)\n",
    "data[:, :, :4][mask2] = [image_r_1, image_g_1, image_b_1, 255]\n",
    "\n",
    "mask = (alpha == 0)\n",
    "data[:, :, :4][mask] = [layout_r_1, layout_g_1, layout_b_1, 0]\n",
    "\n",
    "image = Image.fromarray(data)\n",
    "image.save('phone2.png')"
   ]
  },
  {
   "cell_type": "code",
   "execution_count": null,
   "metadata": {},
   "outputs": [],
   "source": []
  }
 ],
 "metadata": {
  "kernelspec": {
   "display_name": "ispi-venv",
   "language": "python",
   "name": "ispi-venv"
  },
  "language_info": {
   "codemirror_mode": {
    "name": "ipython",
    "version": 3
   },
   "file_extension": ".py",
   "mimetype": "text/x-python",
   "name": "python",
   "nbconvert_exporter": "python",
   "pygments_lexer": "ipython3",
   "version": "3.9.6"
  },
  "orig_nbformat": 4,
  "vscode": {
   "interpreter": {
    "hash": "f449b8d7b92b66341b17b5e691ff8ef82a3a0632fb6423e68c6b588166bb544a"
   }
  }
 },
 "nbformat": 4,
 "nbformat_minor": 2
}
